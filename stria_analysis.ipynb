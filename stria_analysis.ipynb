{
 "cells": [
  {
   "cell_type": "markdown",
   "metadata": {},
   "source": [
    "RUN THIS CODE TO ANALYZE THE STRIA AND STRIA VASCULATURE LABELS "
   ]
  },
  {
   "cell_type": "code",
   "execution_count": null,
   "metadata": {},
   "outputs": [],
   "source": [
    "!pip install feret"
   ]
  },
  {
   "cell_type": "code",
   "execution_count": null,
   "metadata": {},
   "outputs": [],
   "source": [
    "import numpy as np\n",
    "import os\n",
    "from skimage.io import imsave, imread\n",
    "import pandas as pd\n",
    "import util_stria"
   ]
  },
  {
   "cell_type": "code",
   "execution_count": null,
   "metadata": {},
   "outputs": [],
   "source": [
    "def stria_analyze(imagesloc,strialoc,caploc):\n",
    "    images=[]\n",
    "    striamasks=[]\n",
    "    vasmasks=[]\n",
    "    analysisdata=[]\n",
    "    cellmask=[]\n",
    "    \n",
    "    dir_list = os.listdir(imagesloc)\n",
    "    for name in dir_list:\n",
    "        if((name[-4:] != '.png') | (name=='.tiff.png')|(name[0:2]=='._')):\n",
    "            continue\n",
    "        try:\n",
    "            maskname=name[:-9]+\".png\"\n",
    "            im=imread(imagesloc+\"/\"+name)\n",
    "            maskstria=imread(strialoc+\"/\"+maskname)\n",
    "            maskvas=imread(caploc+\"/\"+maskname)\n",
    "            print(name)\n",
    "        except: \n",
    "            print(\"image not found\")\n",
    "            continue\n",
    "        maskstria=maskstria>0\n",
    "        maskvas=maskvas>0\n",
    "        maskstria=util_stria.returnlargarea(maskstria,strialoc+\"/\"+maskname)\n",
    "        \n",
    "        striaarea,totalcaparea,avgareapercap,averageecc=util_stria.areasandecc(maskstria,maskvas)\n",
    "        labelim,gray,segmented_image= util_stria.kmeanstria(im,maskstria)\n",
    "        cellval,capval=util_stria.calcmaxminlabel(gray,labelim,4)\n",
    "        cell=(labelim==cellval)\n",
    "\n",
    "        numcell=util_stria.countcells(cell)\n",
    "        w1,w2,w3=util_stria.width(maskstria)\n",
    "        images.append(im)\n",
    "        striamasks.append(maskstria)\n",
    "        vasmasks.append(maskvas)\n",
    "        cellmask.append(cell)\n",
    "        analysisdata.append([name,striaarea,totalcaparea,avgareapercap,averageecc,numcell,w1,w2,w3])\n",
    "    df = pd.DataFrame(analysisdata)\n",
    "    df.columns=['Image','Stria Area(px)','Total capillary area(px)','Average capillary area','Average capillary eccentricity','number of nuclei','average width of stria','feret width of stria','width at midline of stria']\n",
    "    df.to_csv('analysistotal.csv')\n",
    "    return df"
   ]
  },
  {
   "cell_type": "code",
   "execution_count": null,
   "metadata": {},
   "outputs": [],
   "source": [
    "### SET THESE VARIABLES BEFORE RUNNING SCRIPT\n",
    "imagesloc=\".../stria/\" ##Location of RGB Stria patches \n",
    "strialoc=\".../striaanalysis/\" ##Location of binary masks outlining stria \n",
    "vasloc=\".../vasanalysis/\" ##Location of binary vasculature masks \n",
    "\n",
    "df=stria_analyze(imagesloc,strialoc,vasloc) "
   ]
  },
  {
   "cell_type": "code",
   "execution_count": null,
   "metadata": {},
   "outputs": [],
   "source": [
    "df"
   ]
  },
  {
   "cell_type": "code",
   "execution_count": null,
   "metadata": {},
   "outputs": [],
   "source": []
  },
  {
   "cell_type": "code",
   "execution_count": null,
   "metadata": {},
   "outputs": [],
   "source": [
    "df"
   ]
  }
 ],
 "metadata": {
  "kernelspec": {
   "display_name": "Python 3",
   "language": "python",
   "name": "python3"
  },
  "language_info": {
   "codemirror_mode": {
    "name": "ipython",
    "version": 3
   },
   "file_extension": ".py",
   "mimetype": "text/x-python",
   "name": "python",
   "nbconvert_exporter": "python",
   "pygments_lexer": "ipython3",
   "version": "3.9.6"
  }
 },
 "nbformat": 4,
 "nbformat_minor": 2
}
