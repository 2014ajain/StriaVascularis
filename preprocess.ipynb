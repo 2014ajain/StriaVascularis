{
 "cells": [
  {
   "cell_type": "markdown",
   "metadata": {},
   "source": [
    "Run this before any analysis to preprocess the data correctly"
   ]
  },
  {
   "cell_type": "code",
   "execution_count": null,
   "metadata": {},
   "outputs": [],
   "source": [
    "!pip install opencv-python ## In case you need to install open-cv"
   ]
  },
  {
   "cell_type": "code",
   "execution_count": 1,
   "metadata": {},
   "outputs": [
    {
     "name": "stderr",
     "output_type": "stream",
     "text": [
      "/Users/aseemjain/Library/Python/3.9/lib/python/site-packages/urllib3/__init__.py:34: NotOpenSSLWarning: urllib3 v2.0 only supports OpenSSL 1.1.1+, currently the 'ssl' module is compiled with 'LibreSSL 2.8.3'. See: https://github.com/urllib3/urllib3/issues/3020\n",
      "  warnings.warn(\n"
     ]
    }
   ],
   "source": [
    "import os\n",
    "from tkinter import filedialog as fd\n",
    "import cv2\n",
    "import os\n",
    "import importcv2\n",
    "from skimage.io import imsave, imread"
   ]
  },
  {
   "cell_type": "code",
   "execution_count": 2,
   "metadata": {},
   "outputs": [],
   "source": [
    "def padcompress(dir_list,loc,loc1,loc2,size):\n",
    "    for x in dir_list:\n",
    "        if((x[-5:] != '.tiff') | (x[:2]=='._')):\n",
    "            print(\"skipped\"+x)\n",
    "            continue\n",
    "        print(x)\n",
    "        im = imread(loc+'/'+x)\n",
    "        image = importcv2.resize_with_pad(im, (size, size))\n",
    "        imagesw=image; \n",
    "        #imagesw[:,:,0]=image[:,:,0]\n",
    "        #imagesw[:,:,2]=image[:,:,2]\n",
    "        image_rescaled = cv2.resize(imagesw,(2048,2048), interpolation = cv2.INTER_AREA)\n",
    "        imsave(loc1+'/'+x, imagesw)\n",
    "        imsave(loc2+x[:-5]+\".png\", image_rescaled)\n"
   ]
  },
  {
   "cell_type": "code",
   "execution_count": 4,
   "metadata": {},
   "outputs": [
    {
     "name": "stderr",
     "output_type": "stream",
     "text": [
      "2024-02-08 15:23:44.178 Python[13568:1208775] WARNING: Secure coding is automatically enabled for restorable state! However, not on all supported macOS versions of this application. Opt-in to secure coding explicitly by implementing NSApplicationDelegate.applicationSupportsSecureRestorableState:.\n"
     ]
    },
    {
     "name": "stdout",
     "output_type": "stream",
     "text": [
      "Image_R149_02.vsi - 20x_BF_02.tiff\n",
      "Image_R188_01.vsi - 20x_BF_01.tiff\n"
     ]
    }
   ],
   "source": [
    "filename = fd.askdirectory() ##input location of raw file data \n",
    "dir_list = (os.listdir(filename)) \n",
    "saveresults = fd.askdirectory() ##location where you want to save data##\n",
    "compressed_full=saveresults+\"/compressedfull/\"\n",
    "compressed_cochlea=saveresults+\"/compressedcochlea/\"\n",
    "squarefull=saveresults+\"/full/\"\n",
    "cochleafull=saveresults+\"/cochlea/\"\n",
    "stria_loc=saveresults+\"/stria/\"\n",
    "stria_analysis=saveresults+\"/striaanalysis/\"\n",
    "vas_analysis=saveresults+\"/vasanalysis/\"\n",
    "size=14000 \n",
    "\n",
    "if(os.path.exists(compressed_full)==False):\n",
    "    os.makedirs(compressed_full)\n",
    "    os.makedirs(compressed_cochlea)\n",
    "    os.makedirs(squarefull)\n",
    "    os.makedirs(cochleafull)\n",
    "    os.makedirs(stria_loc)\n",
    "    os.makedirs(stria_analysis)\n",
    "    os.makedirs(vas_analysis)\n",
    "    padcompress(dir_list,filename,squarefull,compressed_full,size)"
   ]
  }
 ],
 "metadata": {
  "kernelspec": {
   "display_name": "Python 3",
   "language": "python",
   "name": "python3"
  },
  "language_info": {
   "codemirror_mode": {
    "name": "ipython",
    "version": 3
   },
   "file_extension": ".py",
   "mimetype": "text/x-python",
   "name": "python",
   "nbconvert_exporter": "python",
   "pygments_lexer": "ipython3",
   "version": "3.9.6"
  }
 },
 "nbformat": 4,
 "nbformat_minor": 2
}
