{
 "cells": [
  {
   "cell_type": "markdown",
   "metadata": {},
   "source": [
    "This is a jupyter notebook file to run inferences to calculated stria and and its associated vasculature. Both of theses models are stored in seperate nnUNet results folders. \n",
    "Please thorouly read how to correctly setup nnUNet for your computer on their website https://github.com/MIC-DKFZ/nnUNet/tree/master before running any of these scripts"
   ]
  },
  {
   "cell_type": "code",
   "execution_count": 4,
   "metadata": {},
   "outputs": [
    {
     "name": "stdout",
     "output_type": "stream",
     "text": [
      "/cis/home/ajain36/my_documents/nnUNet_results\n"
     ]
    }
   ],
   "source": [
    "import os\n",
    "os.environ[\"nnUNet_results\"] = \"/Users/aseemjain/Documents/Research/Otopathology/GitCode/nnUnet_results/\" ###SET THIS TO THE LOCATION OF THE nnUNet_results folder that you downloaded\n",
    "os.environ['KMP_DUPLICATE_LIB_OK']='True'\n",
    "from nnunetv2.paths import nnUNet_results\n",
    "print(nnUNet_results)"
   ]
  },
  {
   "cell_type": "code",
   "execution_count": 2,
   "metadata": {},
   "outputs": [],
   "source": [
    "def convertdata(fileloc): ### Converts data to run nnUnet inferences\n",
    "    location=os.listdir(fileloc)\n",
    "    count=1\n",
    "    for x in location:\n",
    "        if(x[0]=='.'):\n",
    "            continue\n",
    "        else:\n",
    "            newname=\"image_\"+str(count)+\"_0000.png\"\n",
    "            os.rename(fileloc+x, fileloc+newname)\n",
    "            count=count+1\n",
    "    "
   ]
  },
  {
   "cell_type": "code",
   "execution_count": 8,
   "metadata": {},
   "outputs": [
    {
     "name": "stdout",
     "output_type": "stream",
     "text": [
      "\n",
      "#######################################################################\n",
      "Please cite the following paper when using nnU-Net:\n",
      "Isensee, F., Jaeger, P. F., Kohl, S. A., Petersen, J., & Maier-Hein, K. H. (2021). nnU-Net: a self-configuring method for deep learning-based biomedical image segmentation. Nature methods, 18(2), 203-211.\n",
      "#######################################################################\n",
      "\n",
      "There are 11 cases in the source folder\n",
      "I am process 0 out of 1 (max process ID is 0, we start counting with 0!)\n",
      "There are 11 cases that I would like to predict\n",
      "using pin_memory on device 0\n",
      "\n",
      "Predicting image_1:\n",
      "perform_everything_on_gpu: True\n",
      "Prediction done, transferring to CPU if needed\n",
      "sending off prediction to background worker for resampling and export\n",
      "done with image_1\n",
      "\n",
      "Predicting image_10:\n",
      "perform_everything_on_gpu: True\n",
      "Prediction done, transferring to CPU if needed\n",
      "sending off prediction to background worker for resampling and export\n",
      "done with image_10\n",
      "\n",
      "Predicting image_11:\n",
      "perform_everything_on_gpu: True\n",
      "Prediction done, transferring to CPU if needed\n",
      "sending off prediction to background worker for resampling and export\n",
      "done with image_11\n",
      "\n",
      "Predicting image_2:\n",
      "perform_everything_on_gpu: True\n",
      "Prediction done, transferring to CPU if needed\n",
      "sending off prediction to background worker for resampling and export\n",
      "done with image_2\n",
      "\n",
      "Predicting image_3:\n",
      "perform_everything_on_gpu: True\n",
      "Prediction done, transferring to CPU if needed\n",
      "sending off prediction to background worker for resampling and export\n",
      "done with image_3\n",
      "\n",
      "Predicting image_4:\n",
      "perform_everything_on_gpu: True\n",
      "Prediction done, transferring to CPU if needed\n",
      "sending off prediction to background worker for resampling and export\n",
      "done with image_4\n",
      "\n",
      "Predicting image_5:\n",
      "perform_everything_on_gpu: True\n",
      "Prediction done, transferring to CPU if needed\n",
      "sending off prediction to background worker for resampling and export\n",
      "done with image_5\n",
      "\n",
      "Predicting image_6:\n",
      "perform_everything_on_gpu: True\n",
      "Prediction done, transferring to CPU if needed\n",
      "sending off prediction to background worker for resampling and export\n",
      "done with image_6\n",
      "\n",
      "Predicting image_7:\n",
      "perform_everything_on_gpu: True\n",
      "Prediction done, transferring to CPU if needed\n",
      "sending off prediction to background worker for resampling and export\n",
      "done with image_7\n",
      "\n",
      "Predicting image_8:\n",
      "perform_everything_on_gpu: True\n",
      "Prediction done, transferring to CPU if needed\n",
      "sending off prediction to background worker for resampling and export\n",
      "done with image_8\n",
      "\n",
      "Predicting image_9:\n",
      "perform_everything_on_gpu: True\n",
      "Prediction done, transferring to CPU if needed\n",
      "sending off prediction to background worker for resampling and export\n",
      "done with image_9\n"
     ]
    }
   ],
   "source": [
    "inputfolder=\".../stria/\" #SET THIS BEFORE YOU RUN THE PROGRAM: Location of stria patches created in previous step\n",
    "dataset=148 ##Change to 149 for stria vasculature network, stria border is = dataset 148\n",
    "convertdata(inputfolder)\n",
    "outputfolder=\".../strianalysis\"\n",
    "!nnUNetv2_predict -d {dataset} -i {inputfolder} -o {outputfolder} -f  0 1 2 3 4 -tr nnUNetTrainer -c 2d -p nnUNetPlans -device 'cuda' ## change/remove device based on device, see nnunet how_to_use_nnunet.md\n",
    "dataset=149\n",
    "outputfolder=\".../vasanalysis\"\n",
    "!nnUNetv2_predict -d {dataset} -i {inputfolder} -o {outputfolder} -f  0 1 2 3 4 -tr nnUNetTrainer -c 2d -p nnUNetPlans -device 'cuda' ## change/remove device based on device, see nnunet how_to_use_nnunet.md"
   ]
  }
 ],
 "metadata": {
  "kernelspec": {
   "display_name": "Python 3",
   "language": "python",
   "name": "python3"
  },
  "language_info": {
   "codemirror_mode": {
    "name": "ipython",
    "version": 3
   },
   "file_extension": ".py",
   "mimetype": "text/x-python",
   "name": "python",
   "nbconvert_exporter": "python",
   "pygments_lexer": "ipython3",
   "version": "3.9.6"
  }
 },
 "nbformat": 4,
 "nbformat_minor": 2
}
